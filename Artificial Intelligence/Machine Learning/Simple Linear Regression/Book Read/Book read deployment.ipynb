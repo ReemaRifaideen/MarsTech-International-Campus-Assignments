{
 "cells": [
  {
   "cell_type": "code",
   "execution_count": 1,
   "id": "3ee221a0-51b8-4c2f-bbfc-b99d3ffd3a4c",
   "metadata": {},
   "outputs": [],
   "source": [
    "import pickle"
   ]
  },
  {
   "cell_type": "code",
   "execution_count": 2,
   "id": "30c3afab-b91e-48c3-a582-f50cef5e7482",
   "metadata": {},
   "outputs": [],
   "source": [
    "#Load the saved model and use it to make predictions\n",
    "\n",
    "loaded_model = pickle.load(open(\"Read_book1_model.sav\",'rb'))"
   ]
  },
  {
   "cell_type": "code",
   "execution_count": 3,
   "id": "0b5523b6-73b0-4860-ba71-06c62b853e73",
   "metadata": {},
   "outputs": [
    {
     "name": "stderr",
     "output_type": "stream",
     "text": [
      "E:\\Anaconda\\Lib\\site-packages\\sklearn\\base.py:493: UserWarning: X does not have valid feature names, but LinearRegression was fitted with feature names\n",
      "  warnings.warn(\n"
     ]
    }
   ],
   "source": [
    "#predict the outpur (Label variable) or an input value of 7.0 (Feature variable)\n",
    "\n",
    "result = loaded_model.predict([[7]])"
   ]
  },
  {
   "cell_type": "code",
   "execution_count": null,
   "id": "3cec58e5-75a4-40f0-a503-b52478c854e1",
   "metadata": {},
   "outputs": [],
   "source": []
  }
 ],
 "metadata": {
  "kernelspec": {
   "display_name": "Python 3 (ipykernel)",
   "language": "python",
   "name": "python3"
  },
  "language_info": {
   "codemirror_mode": {
    "name": "ipython",
    "version": 3
   },
   "file_extension": ".py",
   "mimetype": "text/x-python",
   "name": "python",
   "nbconvert_exporter": "python",
   "pygments_lexer": "ipython3",
   "version": "3.12.7"
  }
 },
 "nbformat": 4,
 "nbformat_minor": 5
}
